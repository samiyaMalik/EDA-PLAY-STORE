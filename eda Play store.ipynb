{
 "cells": [
  {
   "cell_type": "markdown",
   "id": "a0731167",
   "metadata": {},
   "source": [
    "# Google App Store EDA\n",
    "\n",
    "## Assignmenet:\n",
    "1. Download the dataset\n",
    "2. Extract data from  zip file\n",
    "3. read the data into python pandas\n",
    "4. chcek each column\n",
    "5. Define each column in MD Style\n"
   ]
  },
  {
   "cell_type": "code",
   "execution_count": 1,
   "id": "ed9f6ea5",
   "metadata": {},
   "outputs": [
    {
     "name": "stderr",
     "output_type": "stream",
     "text": [
      "c:\\Users\\Admin\\miniconda3\\envs\\ydata_profiling\\lib\\site-packages\\tqdm\\auto.py:21: TqdmWarning: IProgress not found. Please update jupyter and ipywidgets. See https://ipywidgets.readthedocs.io/en/stable/user_install.html\n",
      "  from .autonotebook import tqdm as notebook_tqdm\n"
     ]
    }
   ],
   "source": [
    "import pandas as pd\n",
    "import ydata_profiling as yd"
   ]
  },
  {
   "cell_type": "code",
   "execution_count": 2,
   "id": "dc757397",
   "metadata": {},
   "outputs": [],
   "source": [
    "df = pd.read_csv('F:\\EDA PLAY STORE\\googleplaystore.csv')   "
   ]
  },
  {
   "cell_type": "code",
   "execution_count": 3,
   "id": "e3334fe2",
   "metadata": {},
   "outputs": [
    {
     "name": "stderr",
     "output_type": "stream",
     "text": [
      "Summarize dataset: 100%|██████████| 24/24 [00:04<00:00,  5.37it/s, Completed]                      \n",
      "Generate report structure: 100%|██████████| 1/1 [00:09<00:00,  9.63s/it]\n",
      "Render HTML: 100%|██████████| 1/1 [00:01<00:00,  1.52s/it]\n",
      "Export report to file: 100%|██████████| 1/1 [00:00<00:00, 32.53it/s]\n"
     ]
    }
   ],
   "source": [
    "profile = yd.ProfileReport(df, title=\"Google Play Store Data Profiling Report\", explorative=True)\n",
    "profile.to_file(\"google_play_store_profile_report.html\")"
   ]
  }
 ],
 "metadata": {
  "kernelspec": {
   "display_name": "ydata_profiling",
   "language": "python",
   "name": "python3"
  },
  "language_info": {
   "codemirror_mode": {
    "name": "ipython",
    "version": 3
   },
   "file_extension": ".py",
   "mimetype": "text/x-python",
   "name": "python",
   "nbconvert_exporter": "python",
   "pygments_lexer": "ipython3",
   "version": "3.7.0"
  }
 },
 "nbformat": 4,
 "nbformat_minor": 5
}
